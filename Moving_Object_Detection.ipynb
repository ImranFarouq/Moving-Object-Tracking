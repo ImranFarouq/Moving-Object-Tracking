{
  "nbformat": 4,
  "nbformat_minor": 0,
  "metadata": {
    "colab": {
      "provenance": [],
      "authorship_tag": "ABX9TyOq+UB9MlYDfNyfZIq6q9+p",
      "include_colab_link": true
    },
    "kernelspec": {
      "name": "python3",
      "display_name": "Python 3"
    },
    "language_info": {
      "name": "python"
    }
  },
  "cells": [
    {
      "cell_type": "markdown",
      "metadata": {
        "id": "view-in-github",
        "colab_type": "text"
      },
      "source": [
        "<a href=\"https://colab.research.google.com/github/ImranFarouq/Moving-Object-Tracking/blob/main/Moving_Object_Detection.ipynb\" target=\"_parent\"><img src=\"https://colab.research.google.com/assets/colab-badge.svg\" alt=\"Open In Colab\"/></a>"
      ]
    },
    {
      "cell_type": "code",
      "execution_count": 1,
      "metadata": {
        "colab": {
          "base_uri": "https://localhost:8080/"
        },
        "id": "Hy_0ILPgcn89",
        "outputId": "72c360ec-8316-4650-b5c3-a7b35ce3cdac"
      },
      "outputs": [
        {
          "output_type": "stream",
          "name": "stdout",
          "text": [
            "Requirement already satisfied: opencv-python in /usr/local/lib/python3.10/dist-packages (4.7.0.72)\n",
            "Requirement already satisfied: numpy>=1.21.2 in /usr/local/lib/python3.10/dist-packages (from opencv-python) (1.23.5)\n",
            "Requirement already satisfied: imutils in /usr/local/lib/python3.10/dist-packages (0.5.4)\n"
          ]
        }
      ],
      "source": [
        "!pip install opencv-python\n",
        "!pip install imutils"
      ]
    },
    {
      "cell_type": "code",
      "source": [
        "# importing the reqired libraries\n",
        "import cv2\n",
        "import imutils"
      ],
      "metadata": {
        "id": "B6wN7_ThczpM"
      },
      "execution_count": 2,
      "outputs": []
    },
    {
      "cell_type": "code",
      "source": [
        "# Moving Object Detection"
      ],
      "metadata": {
        "id": "uqxUKExzc2dc"
      },
      "execution_count": 3,
      "outputs": []
    },
    {
      "cell_type": "code",
      "source": [
        "# initialise Camera\n",
        "\n",
        "# Depends on number of cameras connected to your system\n",
        "cam = cv2.VideoCapture() # 0 or 1 or 2\n",
        "\n",
        "while True: # To stream the video we need inifinte while loop\n",
        "  _ , img =  cam.read()\n",
        "  cv2.imshow('Video Stream', img)\n",
        "  key = cv2.waitKey(1) &  0xFF\n",
        "  if key == 'q':\n",
        ""
      ],
      "metadata": {
        "id": "Or3Y7oDbdAcx"
      },
      "execution_count": null,
      "outputs": []
    }
  ]
}